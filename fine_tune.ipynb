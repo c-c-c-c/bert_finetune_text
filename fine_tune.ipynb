{
 "cells": [
  {
   "cell_type": "code",
   "execution_count": 1,
   "metadata": {
    "code_folding": [
     0
    ]
   },
   "outputs": [],
   "source": [
    "# import\n",
    "import torch\n",
    "from tqdm import tqdm\n",
    "from transformers import BertConfig, BertForPreTraining\n",
    "# 標準使用ライブラリー\n",
    "import numpy as np # linear algebra\n",
    "import pandas as pd # data processing, CSV file I/O (e.g. pd.read_csv)\n",
    "# Suppress warnings \n",
    "import warnings\n",
    "warnings.filterwarnings('ignore')\n",
    "import gc\n",
    "import os\n",
    "import shutil\n",
    "from icecream import ic\n",
    "from tqdm import tqdm_notebook as tqdm \n",
    "\n",
    "# matplotlib and seaborn for plotting\n",
    "import matplotlib.pyplot as plt\n",
    "%matplotlib inline\n",
    "import seaborn as sns\n",
    "\n",
    "# 追記\n",
    "import json\n",
    "import datetime\n",
    "import math\n",
    "plt.style.use('dark_background')\n",
    "\n",
    "from torch import nn\n",
    "\n",
    "from transformers import BertModel\n",
    "import os\n",
    "os.environ[\"CUDA_VISIBLE_DEVICES\"]=\"9\"\n"
   ]
  },
  {
   "cell_type": "code",
   "execution_count": 2,
   "metadata": {},
   "outputs": [],
   "source": [
    "dic = {}\n",
    "\n",
    "with open(\"../BERT-base_mecab-ipadic-bpe-32k/vocab.txt\",  \"r\", encoding=\"utf-8\" ) as f:\n",
    "    vocab = f.read()\n",
    "    for id, word in enumerate(vocab.split('\\n')):\n",
    "        dic[word] = id\n",
    "        \n",
    "text = \"[CLS] 私 は 犬 が 好き 。 [SEP]\"\n",
    "\n",
    "x = [dic[w] for w in text.split()]"
   ]
  },
  {
   "cell_type": "code",
   "execution_count": 3,
   "metadata": {},
   "outputs": [],
   "source": [
    "x = torch.LongTensor(x).unsqueeze(0)\n",
    "\n"
   ]
  },
  {
   "cell_type": "code",
   "execution_count": 4,
   "metadata": {},
   "outputs": [],
   "source": [
    "bert = BertModel.from_pretrained(\"cl-tohoku/bert-base-japanese\")"
   ]
  },
  {
   "cell_type": "code",
   "execution_count": 5,
   "metadata": {},
   "outputs": [],
   "source": [
    "# a = bert(x)"
   ]
  },
  {
   "cell_type": "code",
   "execution_count": 6,
   "metadata": {},
   "outputs": [],
   "source": [
    "# a[0].shape"
   ]
  },
  {
   "cell_type": "code",
   "execution_count": 7,
   "metadata": {},
   "outputs": [],
   "source": [
    "from transformers import BertJapaneseTokenizer\n",
    "\n",
    "tknz = BertJapaneseTokenizer.from_pretrained('cl-tohoku/bert-base-japanese')\n"
   ]
  },
  {
   "cell_type": "code",
   "execution_count": 8,
   "metadata": {},
   "outputs": [
    {
     "data": {
      "text/plain": [
       "['私', 'は', '犬', 'が', '好き']"
      ]
     },
     "execution_count": 8,
     "metadata": {},
     "output_type": "execute_result"
    }
   ],
   "source": [
    "tknz.tokenize(\"私は犬が好き\")"
   ]
  },
  {
   "cell_type": "markdown",
   "metadata": {},
   "source": [
    "# Masked Language Model"
   ]
  },
  {
   "cell_type": "code",
   "execution_count": 9,
   "metadata": {},
   "outputs": [],
   "source": [
    "x_train, x_test = [],[]\n",
    "y_train, y_test = [],[]\n"
   ]
  },
  {
   "cell_type": "code",
   "execution_count": 10,
   "metadata": {},
   "outputs": [],
   "source": [
    "train_df = pd.read_csv(\"../data/train_twitterJSA_data.csv\")\n",
    "\n",
    "test_df = pd.read_csv(\"../data/test_twitterJSA_data.csv\")"
   ]
  },
  {
   "cell_type": "code",
   "execution_count": 12,
   "metadata": {},
   "outputs": [
    {
     "data": {
      "application/vnd.jupyter.widget-view+json": {
       "model_id": "189ca683e6784fd1b7bbf794813dc908",
       "version_major": 2,
       "version_minor": 0
      },
      "text/plain": [
       "HBox(children=(FloatProgress(value=0.0, max=1841495.0), HTML(value='')))"
      ]
     },
     "metadata": {},
     "output_type": "display_data"
    },
    {
     "name": "stdout",
     "output_type": "stream",
     "text": [
      "\n"
     ]
    }
   ],
   "source": [
    "for ind in tqdm(range(len(train_df))):\n",
    "#     print(ind)\n",
    "    \n",
    "    if type(train_df[\"text\"].iloc[ind]  ) != str:\n",
    "        continue\n",
    "    tid = tknz.encode(train_df[\"text\"].iloc[ind]) \n",
    "    \n",
    "    if (len(tid)>512):\n",
    "        tid = tid[:512]\n",
    "    x_train.append(tid)\n",
    "    y_train.append(train_df[\"label\"].iloc[ind])\n",
    "#     break"
   ]
  },
  {
   "cell_type": "code",
   "execution_count": 13,
   "metadata": {},
   "outputs": [],
   "source": [
    "# net(x_train[1])\n",
    "\n",
    "# net(torch.LongTensor(x_train[1]).unsqueeze(0).to(device))"
   ]
  },
  {
   "cell_type": "code",
   "execution_count": 14,
   "metadata": {},
   "outputs": [],
   "source": [
    "for i in range(len(x_train)):\n",
    "    if (len(x_train[i])) < 2:\n",
    "        print(x_train[i])\n"
   ]
  },
  {
   "cell_type": "code",
   "execution_count": 15,
   "metadata": {},
   "outputs": [
    {
     "data": {
      "application/vnd.jupyter.widget-view+json": {
       "model_id": "c683243174a7455ab898877995056fee",
       "version_major": 2,
       "version_minor": 0
      },
      "text/plain": [
       "HBox(children=(FloatProgress(value=0.0, max=107004.0), HTML(value='')))"
      ]
     },
     "metadata": {},
     "output_type": "display_data"
    },
    {
     "name": "stdout",
     "output_type": "stream",
     "text": [
      "\n"
     ]
    }
   ],
   "source": [
    "for ind in tqdm(range(len(test_df))):\n",
    "    \n",
    "    if type(test_df[\"text\"].iloc[ind] ) != str:\n",
    "        continue\n",
    "    \n",
    "    tid = tknz.encode(test_df[\"text\"].iloc[ind]) \n",
    "    if (len(tid)>512):\n",
    "        tid = tid[:512]\n",
    "    x_test.append(tid)\n",
    "    y_test.append(test_df[\"label\"].iloc[ind])\n",
    "#     break"
   ]
  },
  {
   "cell_type": "code",
   "execution_count": 16,
   "metadata": {},
   "outputs": [],
   "source": [
    "class DocCls(nn.Module):\n",
    "    def __init__(self, bert):\n",
    "        super(DocCls, self).__init__()\n",
    "        self.bert = bert\n",
    "        self.cls = nn.Linear(768, 5)\n",
    "    \n",
    "    def forward(self, x):\n",
    "        bout = self.bert(x)\n",
    "        bs = len(bout[0])\n",
    "        h0 = [bout[0][i][0] for i in range(bs)]\n",
    "        h0 = torch.stack(h0, dim=0)\n",
    "        return self.cls(h0)\n",
    "        \n",
    "    "
   ]
  },
  {
   "cell_type": "code",
   "execution_count": 17,
   "metadata": {},
   "outputs": [
    {
     "name": "stdout",
     "output_type": "stream",
     "text": [
      "cuda:0\n"
     ]
    }
   ],
   "source": [
    "device = torch.device(\"cuda:0\" if torch.cuda.is_available() else \"cpu\")\n",
    "print(device)"
   ]
  },
  {
   "cell_type": "code",
   "execution_count": 18,
   "metadata": {},
   "outputs": [],
   "source": [
    "from torch import optim\n",
    "net = DocCls(bert)\n",
    "net.to(device)\n",
    "criterion = nn.CrossEntropyLoss()\n",
    "optimizer = optim.SGD(net.parameters(), lr = 0.001)"
   ]
  },
  {
   "cell_type": "markdown",
   "metadata": {},
   "source": [
    "## 学習"
   ]
  },
  {
   "cell_type": "code",
   "execution_count": 19,
   "metadata": {},
   "outputs": [
    {
     "data": {
      "application/vnd.jupyter.widget-view+json": {
       "model_id": "6ff16dfceaf24da0bc0bc95d7f1f5237",
       "version_major": 2,
       "version_minor": 0
      },
      "text/plain": [
       "HBox(children=(FloatProgress(value=0.0, max=10.0), HTML(value='')))"
      ]
     },
     "metadata": {},
     "output_type": "display_data"
    },
    {
     "name": "stdout",
     "output_type": "stream",
     "text": [
      "0 0 1.5006392002105713\n",
      "0 2000 1869.4233348965645\n",
      "0 4000 1816.6010485887527\n",
      "0 6000 1735.1425457000732\n",
      "0 8000 1621.5836631059647\n",
      "0 10000 1613.6007076501846\n",
      "0 12000 1533.5128128528595\n",
      "0 14000 1454.4160539507866\n",
      "0 16000 1411.877355158329\n",
      "0 18000 1437.2804020643234\n",
      "0 20000 1369.4372972249985\n",
      "0 22000 1423.184942483902\n",
      "0 24000 1355.9320271015167\n",
      "0 26000 1318.4401175379753\n",
      "0 28000 1353.7926314473152\n",
      "0 30000 1313.5203562378883\n",
      "0 32000 1308.4697924852371\n",
      "0 34000 1356.1849667429924\n",
      "0 36000 1252.3874206542969\n",
      "0 38000 1326.4511721134186\n",
      "0 40000 1310.6814140677452\n",
      "0 42000 1252.5557119846344\n",
      "0 48000 1276.300983607769\n",
      "0 50000 1275.4331720471382\n",
      "1 0 1.9945297241210938\n",
      "1 2000 1233.008622944355\n",
      "1 4000 1253.9622992873192\n",
      "1 6000 1286.7773941755295\n",
      "1 8000 1242.713795542717\n",
      "1 10000 1279.1937818527222\n",
      "1 12000 1224.172103881836\n",
      "1 14000 1177.4856850504875\n",
      "1 16000 1156.9402059316635\n",
      "1 18000 1175.6024389863014\n",
      "1 20000 1125.7209657430649\n",
      "1 22000 1182.1059564948082\n",
      "1 24000 1145.7374956011772\n",
      "1 26000 1084.7293986082077\n",
      "1 28000 1110.6588118076324\n",
      "1 30000 1087.1765984296799\n",
      "1 32000 1125.1401416659355\n",
      "1 34000 1163.9344056844711\n",
      "1 36000 1061.0741085410118\n",
      "1 38000 1144.292348921299\n",
      "1 40000 1146.7969402074814\n",
      "1 42000 1061.5349470973015\n",
      "1 48000 1109.2691843509674\n",
      "1 50000 1120.440139234066\n",
      "2 0 2.571897029876709\n",
      "2 2000 1064.157881140709\n",
      "2 4000 1112.382943868637\n",
      "2 6000 1147.4792427420616\n",
      "2 8000 1072.603710591793\n",
      "2 10000 1149.6042894124985\n",
      "2 12000 1045.6717248558998\n",
      "2 14000 1035.9521802067757\n",
      "2 16000 995.7307916879654\n",
      "2 18000 1047.1583613157272\n",
      "2 20000 1016.9895149469376\n",
      "2 22000 1042.2436987757683\n",
      "2 24000 1033.2286806106567\n",
      "2 26000 974.5784482955933\n",
      "2 28000 999.7297236919403\n",
      "2 30000 980.374974489212\n",
      "2 32000 983.559606730938\n",
      "2 34000 1025.6103939414024\n",
      "2 36000 933.8060175180435\n",
      "2 38000 1024.1686450242996\n",
      "2 40000 1021.7229292988777\n",
      "2 42000 948.5850539803505\n",
      "2 44000 1002.6497685909271\n",
      "2 46000 1009.2600752711296\n",
      "2 48000 1035.8617384433746\n",
      "2 50000 978.6362335681915\n",
      "3 0 2.5137932300567627\n",
      "3 2000 959.3581557273865\n",
      "3 4000 966.8376785516739\n",
      "3 6000 1048.7606909275055\n",
      "3 8000 962.991037607193\n",
      "3 10000 1058.5965204238892\n",
      "3 12000 964.575674533844\n",
      "3 14000 941.5800751447678\n",
      "3 16000 930.4707165956497\n",
      "3 18000 949.2161441445351\n",
      "3 20000 910.4638711214066\n",
      "3 22000 963.2665396928787\n",
      "3 24000 932.2786194086075\n",
      "3 26000 868.5850273370743\n",
      "3 28000 900.8528826236725\n",
      "3 30000 860.5549263954163\n",
      "3 32000 877.9758306741714\n",
      "3 34000 936.9813840389252\n",
      "3 36000 827.2421303987503\n",
      "3 38000 915.7425063848495\n",
      "3 40000 929.4480612874031\n",
      "3 42000 867.5410996675491\n",
      "3 44000 898.5482731461525\n",
      "3 46000 923.5514159798622\n",
      "3 48000 909.6270977854729\n",
      "3 50000 917.355218410492\n",
      "4 0 1.546642780303955\n",
      "4 2000 871.0023854970932\n",
      "4 4000 925.4751209020615\n",
      "4 6000 967.4013608694077\n",
      "4 8000 910.2128929495811\n",
      "4 10000 961.6438557505608\n",
      "4 12000 838.6644756793976\n",
      "4 14000 854.1440269947052\n",
      "4 16000 840.1894234418869\n",
      "4 18000 854.2006850838661\n",
      "4 20000 835.3502007722855\n",
      "4 22000 820.938675224781\n",
      "4 24000 871.9698073863983\n",
      "4 26000 783.5395983457565\n",
      "4 28000 820.9691761732101\n",
      "4 30000 797.8033790588379\n",
      "4 32000 810.5687962770462\n",
      "4 34000 818.1331180334091\n",
      "4 36000 737.7116601467133\n",
      "4 38000 803.7733361721039\n",
      "4 40000 813.1168279647827\n",
      "4 42000 775.7367624044418\n",
      "4 44000 809.1278722882271\n",
      "4 46000 848.8327277898788\n",
      "4 48000 824.2697882652283\n",
      "4 50000 799.0221046209335\n",
      "5 0 2.3092334270477295\n",
      "5 2000 731.5287616252899\n",
      "5 4000 846.6911734342575\n",
      "5 6000 849.1815245747566\n",
      "5 8000 815.3932576179504\n",
      "5 10000 851.8150932788849\n",
      "5 12000 749.4161432981491\n",
      "5 14000 738.355274438858\n",
      "5 16000 700.6277326345444\n",
      "5 18000 781.5741729736328\n",
      "5 20000 746.2338876724243\n",
      "5 22000 770.9133429527283\n",
      "5 24000 725.1202412843704\n",
      "5 26000 732.1390303373337\n",
      "5 28000 727.8094509840012\n",
      "5 30000 681.2769000530243\n",
      "5 32000 747.2568498253822\n",
      "5 34000 800.7515593767166\n",
      "5 36000 666.9028017520905\n",
      "5 38000 717.8727715015411\n",
      "5 40000 741.8235059976578\n",
      "5 42000 717.8707538843155\n",
      "5 44000 743.7684210538864\n",
      "5 46000 757.3782280683517\n",
      "5 48000 749.2337052822113\n",
      "5 50000 717.5235694050789\n",
      "6 0 0.8659162521362305\n",
      "6 2000 698.9300926923752\n",
      "6 4000 699.0136049985886\n",
      "6 6000 778.8646327257156\n",
      "6 8000 709.1833579540253\n",
      "6 10000 802.0867906808853\n",
      "6 12000 704.403357386589\n",
      "6 14000 739.6738579273224\n",
      "6 16000 668.4538999795914\n",
      "6 18000 660.6473170518875\n",
      "6 20000 654.7365769147873\n",
      "6 22000 706.7655575871468\n",
      "6 24000 652.4182374477386\n",
      "6 26000 650.694510102272\n",
      "6 28000 652.3263447284698\n",
      "6 30000 597.3320453166962\n",
      "6 32000 681.8553184270859\n",
      "6 34000 697.1444702148438\n",
      "6 36000 595.8963376283646\n",
      "6 38000 672.234412252903\n",
      "6 40000 665.2400650978088\n",
      "6 42000 617.165543794632\n",
      "6 44000 659.9716436862946\n",
      "6 46000 690.8914334774017\n",
      "6 48000 667.5059121847153\n",
      "6 50000 640.854990363121\n",
      "7 0 5.140219688415527\n",
      "7 2000 617.1135232448578\n",
      "7 4000 638.4346272945404\n",
      "7 6000 735.0884360074997\n",
      "7 8000 634.2179456949234\n",
      "7 10000 714.7582213878632\n",
      "7 12000 630.4531480073929\n",
      "7 14000 644.9416548013687\n",
      "7 16000 564.6485944986343\n",
      "7 18000 590.0935454368591\n",
      "7 20000 605.9385668635368\n",
      "7 22000 606.5654563903809\n",
      "7 24000 625.9006307125092\n",
      "7 26000 582.1711320877075\n",
      "7 28000 589.1431473493576\n",
      "7 30000 577.9746031165123\n",
      "7 32000 586.5167940855026\n",
      "7 34000 657.6222908496857\n",
      "7 36000 579.3865624666214\n",
      "7 38000 610.9998919963837\n",
      "7 40000 617.735449552536\n",
      "7 46000 619.0616295337677\n",
      "7 48000 600.906748175621\n",
      "7 50000 529.9488282799721\n",
      "8 0 1.3701496124267578\n",
      "8 2000 617.0108762979507\n",
      "8 4000 518.7860717773438\n",
      "8 6000 647.4438351392746\n",
      "8 8000 625.2331472635269\n",
      "8 10000 650.7931051254272\n",
      "8 12000 556.1474598646164\n",
      "8 14000 611.5080122947693\n",
      "8 16000 553.6312874555588\n",
      "8 18000 588.5360021591187\n",
      "8 20000 530.8198027610779\n",
      "8 22000 548.3333032131195\n",
      "8 24000 575.3740932941437\n",
      "8 26000 518.4396678209305\n",
      "8 28000 562.8630093336105\n",
      "8 30000 529.5333987474442\n",
      "8 32000 541.4669930934906\n",
      "8 34000 576.335950255394\n",
      "8 36000 512.6082572937012\n",
      "8 38000 564.1308372020721\n",
      "8 40000 567.8928669095039\n",
      "8 42000 580.6611096858978\n",
      "8 44000 519.9249933958054\n",
      "8 46000 502.99160063266754\n",
      "8 48000 554.3262342214584\n",
      "8 50000 542.403391957283\n",
      "9 0 0.4842038154602051\n",
      "9 2000 513.5575021505356\n",
      "9 4000 564.0989515781403\n",
      "9 6000 571.3536262512207\n",
      "9 8000 578.2998287677765\n",
      "9 10000 562.1584762334824\n",
      "9 12000 494.7278562784195\n",
      "9 14000 518.3991081118584\n",
      "9 16000 489.18411815166473\n",
      "9 18000 497.1919194459915\n",
      "9 20000 508.7643743753433\n",
      "9 22000 520.9230630397797\n",
      "9 24000 529.0111558437347\n",
      "9 26000 451.4438222646713\n",
      "9 28000 477.72965931892395\n",
      "9 30000 451.4848101735115\n",
      "9 32000 501.9483392238617\n",
      "9 34000 506.89814126491547\n",
      "9 36000 474.04735112190247\n",
      "9 38000 465.9921153783798\n",
      "9 40000 502.83677220344543\n",
      "9 42000 448.0899978876114\n",
      "9 44000 497.86684012413025\n",
      "9 46000 540.838453412056\n",
      "9 48000 520.2042744159698\n",
      "9 50000 475.63928627967834\n",
      "\n"
     ]
    }
   ],
   "source": [
    "net.train()\n",
    "\n",
    "for ep in tqdm(range(10)):\n",
    "    lossK=0.0\n",
    "    for i in range(len(x_train)):\n",
    "        x= torch.LongTensor(x_train[i]).unsqueeze(0).to(device)\n",
    "        dummy_y  =[]\n",
    "        added_flg = 0\n",
    "        \n",
    "        # 同率１位は、先のほうにする。\n",
    "        for index, yy in enumerate(y_train[i][1:-1].split(\",\")):\n",
    "            if \"1\" in yy and added_flg == 0:\n",
    "                dummy_y.append(index)\n",
    "                added_flg = 1\n",
    "            \n",
    "        y = torch.LongTensor(dummy_y).to(device)\n",
    "        out = net(x)\n",
    "#         print(\"out:\", out.size(), \"y:\", y.size())\n",
    "        \n",
    "        loss = criterion(out, y)\n",
    "        lossK += loss.item()\n",
    "        \n",
    "        if (i % 2000 == 0 ):\n",
    "            print(ep, i, lossK)\n",
    "            lossK = 0.0\n",
    "        elif (i>50000):\n",
    "            break\n",
    "        \n",
    "        optimizer.zero_grad()\n",
    "        loss.backward()\n",
    "        optimizer.step()\n",
    "    outfile = \"doccls - \"+ str(ep) + \".model\"\n",
    "            "
   ]
  },
  {
   "cell_type": "code",
   "execution_count": 20,
   "metadata": {},
   "outputs": [],
   "source": [
    "torch.save(net.state_dict(), outfile)\n",
    "\n"
   ]
  },
  {
   "cell_type": "markdown",
   "metadata": {},
   "source": [
    "\n",
    "## 評価"
   ]
  },
  {
   "cell_type": "code",
   "execution_count": 55,
   "metadata": {},
   "outputs": [
    {
     "name": "stdout",
     "output_type": "stream",
     "text": [
      "45187 61064 0.7399941045460501\n"
     ]
    }
   ],
   "source": [
    "real_data_num, ok =0, 0\n",
    "net.eval()\n",
    "\n",
    "with torch.no_grad():\n",
    "    for i in range(len(x_test)):\n",
    "        x = torch.LongTensor(x_test[i]).unsqueeze(0).to(device)\n",
    "        ans =  net(x)\n",
    "        ans1 = torch.argmax(ans,dim=1).item()\n",
    "        \n",
    "        if (ans1 ==  [int(a) for a in y_test[i][1:-1].split(\",\")].index(1)  ):\n",
    "            ok += 1\n",
    "        real_data_num += 1\n",
    "\n",
    "print(ok, real_data_num, ok/real_data_num)\n"
   ]
  },
  {
   "cell_type": "code",
   "execution_count": null,
   "metadata": {},
   "outputs": [],
   "source": []
  }
 ],
 "metadata": {
  "kernelspec": {
   "display_name": "Python 3",
   "language": "python",
   "name": "python3"
  },
  "language_info": {
   "codemirror_mode": {
    "name": "ipython",
    "version": 3
   },
   "file_extension": ".py",
   "mimetype": "text/x-python",
   "name": "python",
   "nbconvert_exporter": "python",
   "pygments_lexer": "ipython3",
   "version": "3.7.6"
  }
 },
 "nbformat": 4,
 "nbformat_minor": 4
}
